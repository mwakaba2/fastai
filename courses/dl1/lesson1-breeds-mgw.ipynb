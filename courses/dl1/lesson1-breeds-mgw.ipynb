{
 "cells": [
  {
   "cell_type": "code",
   "execution_count": 1,
   "metadata": {},
   "outputs": [],
   "source": [
    "%reload_ext autoreload\n",
    "%autoreload 2\n",
    "%matplotlib inline"
   ]
  },
  {
   "cell_type": "code",
   "execution_count": 2,
   "metadata": {},
   "outputs": [
    {
     "name": "stderr",
     "output_type": "stream",
     "text": [
      "/home/paperspace/anaconda3/envs/fastai/lib/python3.6/site-packages/sklearn/ensemble/weight_boosting.py:29: DeprecationWarning: numpy.core.umath_tests is an internal NumPy module and should not be imported. It will be removed in a future NumPy release.\n",
      "  from numpy.core.umath_tests import inner1d\n"
     ]
    }
   ],
   "source": [
    "from fastai.imports import *\n",
    "from fastai.torch_imports import *\n",
    "from fastai.transforms import *\n",
    "from fastai.conv_learner import *\n",
    "from fastai.model import *\n",
    "from fastai.dataset import *\n",
    "from fastai.sgdr import *\n",
    "from fastai.plots import *"
   ]
  },
  {
   "cell_type": "code",
   "execution_count": 3,
   "metadata": {},
   "outputs": [],
   "source": [
    "torch.cuda.set_device(0)"
   ]
  },
  {
   "cell_type": "code",
   "execution_count": 4,
   "metadata": {},
   "outputs": [],
   "source": [
    "PATH = \"data/dogbreed/\"\n",
    "sz = 224\n",
    "arch = resnext101_64\n",
    "bs = 58"
   ]
  },
  {
   "cell_type": "code",
   "execution_count": 5,
   "metadata": {},
   "outputs": [],
   "source": [
    "label_csv = f'{PATH}labels.csv'\n",
    "n = len(list(open(label_csv))) - 1 # header is not counted (-1)\n",
    "val_idxs = get_cv_idxs(n) # random 20% data for validation set"
   ]
  },
  {
   "cell_type": "code",
   "execution_count": 6,
   "metadata": {},
   "outputs": [],
   "source": [
    "tfms = tfms_from_model(arch, sz, aug_tfms=transforms_side_on, \n",
    "                       max_zoom=1.1)\n",
    "data = ImageClassifierData.from_csv(PATH, 'train', f'{PATH}labels.csv',\n",
    "                                    test_name='test', val_idxs=val_idxs,\n",
    "                                    suffix='.jpg', tfms=tfms, bs=bs)"
   ]
  },
  {
   "cell_type": "code",
   "execution_count": 7,
   "metadata": {},
   "outputs": [],
   "source": [
    "def get_data(sz, bs):\n",
    "    tfms = tfms_from_model(arch, sz, aug_tfms=transforms_side_on, max_zoom=1.1)\n",
    "    data = ImageClassifierData.from_csv(PATH, 'train', f'{PATH}labels.csv', test_name='test',\n",
    "                                        val_idxs=val_idxs, suffix='.jpg', tfms=tfms, bs=bs)\n",
    "    return data if sz > 300 else data.resize(340, 'tmp')"
   ]
  },
  {
   "cell_type": "code",
   "execution_count": 8,
   "metadata": {},
   "outputs": [
    {
     "data": {
      "application/vnd.jupyter.widget-view+json": {
       "model_id": "25554899b492498fbb55bd59e6e5f5b6",
       "version_major": 2,
       "version_minor": 0
      },
      "text/plain": [
       "HBox(children=(IntProgress(value=0, max=6), HTML(value='')))"
      ]
     },
     "metadata": {},
     "output_type": "display_data"
    },
    {
     "name": "stdout",
     "output_type": "stream",
     "text": [
      "\n"
     ]
    }
   ],
   "source": [
    "data = get_data(sz, bs)"
   ]
  },
  {
   "cell_type": "code",
   "execution_count": 10,
   "metadata": {},
   "outputs": [],
   "source": [
    "learn = ConvLearner.pretrained(arch, data, precompute=False)"
   ]
  },
  {
   "cell_type": "code",
   "execution_count": 13,
   "metadata": {},
   "outputs": [],
   "source": [
    "learn.load('299_pre')"
   ]
  },
  {
   "cell_type": "code",
   "execution_count": 14,
   "metadata": {},
   "outputs": [
    {
     "name": "stdout",
     "output_type": "stream",
     "text": [
      "                                              \r"
     ]
    }
   ],
   "source": [
    "log_preds, y = learn.TTA(is_test=True)\n",
    "probs = np.mean(np.exp(log_preds), 0)"
   ]
  },
  {
   "cell_type": "code",
   "execution_count": 15,
   "metadata": {},
   "outputs": [
    {
     "data": {
      "text/plain": [
       "(10357, 120)"
      ]
     },
     "execution_count": 15,
     "metadata": {},
     "output_type": "execute_result"
    }
   ],
   "source": [
    "probs.shape"
   ]
  },
  {
   "cell_type": "code",
   "execution_count": 16,
   "metadata": {},
   "outputs": [],
   "source": [
    "df = pd.DataFrame(probs)"
   ]
  },
  {
   "cell_type": "code",
   "execution_count": 17,
   "metadata": {},
   "outputs": [],
   "source": [
    "df.columns = data.classes"
   ]
  },
  {
   "cell_type": "code",
   "execution_count": 18,
   "metadata": {},
   "outputs": [],
   "source": [
    "df.insert(0, 'id', [image_id[5:-4] for image_id in data.test_ds.fnames])"
   ]
  },
  {
   "cell_type": "code",
   "execution_count": 19,
   "metadata": {},
   "outputs": [
    {
     "data": {
      "text/html": [
       "<div>\n",
       "<style scoped>\n",
       "    .dataframe tbody tr th:only-of-type {\n",
       "        vertical-align: middle;\n",
       "    }\n",
       "\n",
       "    .dataframe tbody tr th {\n",
       "        vertical-align: top;\n",
       "    }\n",
       "\n",
       "    .dataframe thead th {\n",
       "        text-align: right;\n",
       "    }\n",
       "</style>\n",
       "<table border=\"1\" class=\"dataframe\">\n",
       "  <thead>\n",
       "    <tr style=\"text-align: right;\">\n",
       "      <th></th>\n",
       "      <th>id</th>\n",
       "      <th>affenpinscher</th>\n",
       "      <th>afghan_hound</th>\n",
       "      <th>african_hunting_dog</th>\n",
       "      <th>airedale</th>\n",
       "      <th>american_staffordshire_terrier</th>\n",
       "      <th>appenzeller</th>\n",
       "      <th>australian_terrier</th>\n",
       "      <th>basenji</th>\n",
       "      <th>basset</th>\n",
       "      <th>...</th>\n",
       "      <th>toy_poodle</th>\n",
       "      <th>toy_terrier</th>\n",
       "      <th>vizsla</th>\n",
       "      <th>walker_hound</th>\n",
       "      <th>weimaraner</th>\n",
       "      <th>welsh_springer_spaniel</th>\n",
       "      <th>west_highland_white_terrier</th>\n",
       "      <th>whippet</th>\n",
       "      <th>wire-haired_fox_terrier</th>\n",
       "      <th>yorkshire_terrier</th>\n",
       "    </tr>\n",
       "  </thead>\n",
       "  <tbody>\n",
       "    <tr>\n",
       "      <th>0</th>\n",
       "      <td>de084b830010b6107215fef5d4a75b94</td>\n",
       "      <td>4.271520e-11</td>\n",
       "      <td>2.924646e-10</td>\n",
       "      <td>1.906860e-10</td>\n",
       "      <td>8.260780e-10</td>\n",
       "      <td>9.449042e-13</td>\n",
       "      <td>8.850091e-11</td>\n",
       "      <td>4.510359e-12</td>\n",
       "      <td>4.192576e-11</td>\n",
       "      <td>2.196004e-11</td>\n",
       "      <td>...</td>\n",
       "      <td>5.922111e-13</td>\n",
       "      <td>1.266630e-12</td>\n",
       "      <td>9.582849e-12</td>\n",
       "      <td>3.375241e-11</td>\n",
       "      <td>1.029175e-10</td>\n",
       "      <td>3.565925e-12</td>\n",
       "      <td>3.996179e-12</td>\n",
       "      <td>7.877526e-09</td>\n",
       "      <td>6.779934e-11</td>\n",
       "      <td>2.911011e-12</td>\n",
       "    </tr>\n",
       "    <tr>\n",
       "      <th>1</th>\n",
       "      <td>6b423ca7020e70eb05732843c5d2bad1</td>\n",
       "      <td>1.382104e-08</td>\n",
       "      <td>6.724130e-09</td>\n",
       "      <td>3.889354e-11</td>\n",
       "      <td>2.915152e-10</td>\n",
       "      <td>1.161395e-10</td>\n",
       "      <td>4.209479e-13</td>\n",
       "      <td>1.036184e-10</td>\n",
       "      <td>2.205134e-11</td>\n",
       "      <td>5.717530e-10</td>\n",
       "      <td>...</td>\n",
       "      <td>1.378696e-11</td>\n",
       "      <td>1.021919e-11</td>\n",
       "      <td>1.726785e-11</td>\n",
       "      <td>5.100752e-11</td>\n",
       "      <td>1.404919e-11</td>\n",
       "      <td>5.347157e-11</td>\n",
       "      <td>3.383652e-09</td>\n",
       "      <td>6.185389e-10</td>\n",
       "      <td>9.343224e-09</td>\n",
       "      <td>3.086880e-11</td>\n",
       "    </tr>\n",
       "    <tr>\n",
       "      <th>2</th>\n",
       "      <td>74aa7e201e0e93e13e87b986a7d31839</td>\n",
       "      <td>2.940026e-08</td>\n",
       "      <td>2.573598e-08</td>\n",
       "      <td>2.590771e-08</td>\n",
       "      <td>6.109180e-05</td>\n",
       "      <td>9.401978e-08</td>\n",
       "      <td>7.874910e-08</td>\n",
       "      <td>4.058734e-07</td>\n",
       "      <td>2.001734e-07</td>\n",
       "      <td>1.604995e-08</td>\n",
       "      <td>...</td>\n",
       "      <td>4.424366e-08</td>\n",
       "      <td>1.182424e-06</td>\n",
       "      <td>1.699999e-07</td>\n",
       "      <td>6.209311e-08</td>\n",
       "      <td>9.974128e-09</td>\n",
       "      <td>3.656703e-07</td>\n",
       "      <td>1.852240e-07</td>\n",
       "      <td>5.234401e-08</td>\n",
       "      <td>1.773276e-02</td>\n",
       "      <td>9.384896e-09</td>\n",
       "    </tr>\n",
       "    <tr>\n",
       "      <th>3</th>\n",
       "      <td>a079f72193264bc5685e5d28d7372680</td>\n",
       "      <td>6.921349e-06</td>\n",
       "      <td>6.487076e-07</td>\n",
       "      <td>8.890884e-08</td>\n",
       "      <td>1.753670e-06</td>\n",
       "      <td>2.409332e-07</td>\n",
       "      <td>4.609544e-09</td>\n",
       "      <td>1.435349e-06</td>\n",
       "      <td>6.193839e-08</td>\n",
       "      <td>5.577408e-07</td>\n",
       "      <td>...</td>\n",
       "      <td>6.078668e-07</td>\n",
       "      <td>2.277779e-06</td>\n",
       "      <td>8.183573e-08</td>\n",
       "      <td>3.962759e-08</td>\n",
       "      <td>2.076929e-07</td>\n",
       "      <td>1.061915e-07</td>\n",
       "      <td>1.509029e-06</td>\n",
       "      <td>1.629432e-07</td>\n",
       "      <td>9.553340e-05</td>\n",
       "      <td>5.297241e-06</td>\n",
       "    </tr>\n",
       "    <tr>\n",
       "      <th>4</th>\n",
       "      <td>583f7580fa5fec1266331fcf83b76fd6</td>\n",
       "      <td>4.241727e-09</td>\n",
       "      <td>3.341182e-09</td>\n",
       "      <td>4.979441e-11</td>\n",
       "      <td>1.566361e-07</td>\n",
       "      <td>1.147863e-10</td>\n",
       "      <td>1.203217e-09</td>\n",
       "      <td>2.315650e-11</td>\n",
       "      <td>3.049832e-12</td>\n",
       "      <td>1.714923e-11</td>\n",
       "      <td>...</td>\n",
       "      <td>4.392301e-10</td>\n",
       "      <td>8.661049e-12</td>\n",
       "      <td>1.736179e-11</td>\n",
       "      <td>3.786160e-11</td>\n",
       "      <td>1.082097e-10</td>\n",
       "      <td>6.625839e-12</td>\n",
       "      <td>1.308162e-11</td>\n",
       "      <td>6.021169e-10</td>\n",
       "      <td>3.147658e-08</td>\n",
       "      <td>1.080470e-11</td>\n",
       "    </tr>\n",
       "  </tbody>\n",
       "</table>\n",
       "<p>5 rows × 121 columns</p>\n",
       "</div>"
      ],
      "text/plain": [
       "                                 id  affenpinscher  afghan_hound  \\\n",
       "0  de084b830010b6107215fef5d4a75b94   4.271520e-11  2.924646e-10   \n",
       "1  6b423ca7020e70eb05732843c5d2bad1   1.382104e-08  6.724130e-09   \n",
       "2  74aa7e201e0e93e13e87b986a7d31839   2.940026e-08  2.573598e-08   \n",
       "3  a079f72193264bc5685e5d28d7372680   6.921349e-06  6.487076e-07   \n",
       "4  583f7580fa5fec1266331fcf83b76fd6   4.241727e-09  3.341182e-09   \n",
       "\n",
       "   african_hunting_dog      airedale  american_staffordshire_terrier  \\\n",
       "0         1.906860e-10  8.260780e-10                    9.449042e-13   \n",
       "1         3.889354e-11  2.915152e-10                    1.161395e-10   \n",
       "2         2.590771e-08  6.109180e-05                    9.401978e-08   \n",
       "3         8.890884e-08  1.753670e-06                    2.409332e-07   \n",
       "4         4.979441e-11  1.566361e-07                    1.147863e-10   \n",
       "\n",
       "    appenzeller  australian_terrier       basenji        basset  \\\n",
       "0  8.850091e-11        4.510359e-12  4.192576e-11  2.196004e-11   \n",
       "1  4.209479e-13        1.036184e-10  2.205134e-11  5.717530e-10   \n",
       "2  7.874910e-08        4.058734e-07  2.001734e-07  1.604995e-08   \n",
       "3  4.609544e-09        1.435349e-06  6.193839e-08  5.577408e-07   \n",
       "4  1.203217e-09        2.315650e-11  3.049832e-12  1.714923e-11   \n",
       "\n",
       "         ...            toy_poodle   toy_terrier        vizsla  walker_hound  \\\n",
       "0        ...          5.922111e-13  1.266630e-12  9.582849e-12  3.375241e-11   \n",
       "1        ...          1.378696e-11  1.021919e-11  1.726785e-11  5.100752e-11   \n",
       "2        ...          4.424366e-08  1.182424e-06  1.699999e-07  6.209311e-08   \n",
       "3        ...          6.078668e-07  2.277779e-06  8.183573e-08  3.962759e-08   \n",
       "4        ...          4.392301e-10  8.661049e-12  1.736179e-11  3.786160e-11   \n",
       "\n",
       "     weimaraner  welsh_springer_spaniel  west_highland_white_terrier  \\\n",
       "0  1.029175e-10            3.565925e-12                 3.996179e-12   \n",
       "1  1.404919e-11            5.347157e-11                 3.383652e-09   \n",
       "2  9.974128e-09            3.656703e-07                 1.852240e-07   \n",
       "3  2.076929e-07            1.061915e-07                 1.509029e-06   \n",
       "4  1.082097e-10            6.625839e-12                 1.308162e-11   \n",
       "\n",
       "        whippet  wire-haired_fox_terrier  yorkshire_terrier  \n",
       "0  7.877526e-09             6.779934e-11       2.911011e-12  \n",
       "1  6.185389e-10             9.343224e-09       3.086880e-11  \n",
       "2  5.234401e-08             1.773276e-02       9.384896e-09  \n",
       "3  1.629432e-07             9.553340e-05       5.297241e-06  \n",
       "4  6.021169e-10             3.147658e-08       1.080470e-11  \n",
       "\n",
       "[5 rows x 121 columns]"
      ]
     },
     "execution_count": 19,
     "metadata": {},
     "output_type": "execute_result"
    }
   ],
   "source": [
    "df.head()"
   ]
  },
  {
   "cell_type": "code",
   "execution_count": 33,
   "metadata": {},
   "outputs": [],
   "source": [
    "SUBM = f'{PATH}subm/'\n",
    "os.makedirs(SUBM, exist_ok=True)\n",
    "df.to_csv(f'{SUBM}subm.gz', compression='gzip', index=False)"
   ]
  },
  {
   "cell_type": "code",
   "execution_count": 34,
   "metadata": {},
   "outputs": [
    {
     "data": {
      "text/html": [
       "<a href='data/dogbreed/subm/subm.gz' target='_blank'>data/dogbreed/subm/subm.gz</a><br>"
      ],
      "text/plain": [
       "/home/paperspace/fastai/courses/dl1/data/dogbreed/subm/subm.gz"
      ]
     },
     "execution_count": 34,
     "metadata": {},
     "output_type": "execute_result"
    }
   ],
   "source": [
    "FileLink(f'{SUBM}subm.gz')"
   ]
  },
  {
   "cell_type": "code",
   "execution_count": 23,
   "metadata": {},
   "outputs": [
    {
     "data": {
      "text/plain": [
       "'train/008b1271ed1addaccf93783b39deab45.jpg'"
      ]
     },
     "execution_count": 23,
     "metadata": {},
     "output_type": "execute_result"
    }
   ],
   "source": [
    "# individual predictions\n",
    "fn = data.val_ds.fnames[7]\n",
    "fn"
   ]
  },
  {
   "cell_type": "code",
   "execution_count": 24,
   "metadata": {},
   "outputs": [
    {
     "data": {
      "image/png": "[encoded data removed]",
      "text/plain": [
       "<PIL.Image.Image image mode=RGB size=150x150 at 0x7FC5A5031A90>"
      ]
     },
     "execution_count": 24,
     "metadata": {},
     "output_type": "execute_result"
    }
   ],
   "source": [
    "Image.open(PATH + fn).resize((150, 150))"
   ]
  },
  {
   "cell_type": "code",
   "execution_count": 25,
   "metadata": {},
   "outputs": [
    {
     "data": {
      "text/plain": [
       "38"
      ]
     },
     "execution_count": 25,
     "metadata": {},
     "output_type": "execute_result"
    }
   ],
   "source": [
    "trn_tfms, val_tfms = tfms_from_model(arch, sz)\n",
    "ds = FilesIndexArrayDataset([fn], np.array([0]), val_tfms, PATH)\n",
    "dl = DataLoader(ds)\n",
    "preds = learn.predict_dl(dl)\n",
    "np.argmax(preds)"
   ]
  },
  {
   "cell_type": "code",
   "execution_count": 27,
   "metadata": {},
   "outputs": [
    {
     "data": {
      "text/plain": [
       "'doberman'"
      ]
     },
     "execution_count": 27,
     "metadata": {},
     "output_type": "execute_result"
    }
   ],
   "source": [
    "learn.data.classes[38]"
   ]
  },
  {
   "cell_type": "code",
   "execution_count": 32,
   "metadata": {},
   "outputs": [
    {
     "data": {
      "text/plain": [
       "38"
      ]
     },
     "execution_count": 32,
     "metadata": {},
     "output_type": "execute_result"
    }
   ],
   "source": [
    "im = val_tfms(open_image(PATH + fn))\n",
    "preds = learn.predict_array(im[None])\n",
    "np.argmax(preds)"
   ]
  }
 ],
 "metadata": {
  "kernelspec": {
   "display_name": "Python 3",
   "language": "python",
   "name": "python3"
  },
  "language_info": {
   "codemirror_mode": {
    "name": "ipython",
    "version": 3
   },
   "file_extension": ".py",
   "mimetype": "text/x-python",
   "name": "python",
   "nbconvert_exporter": "python",
   "pygments_lexer": "ipython3",
   "version": "3.6.7"
  }
 },
 "nbformat": 4,
 "nbformat_minor": 2
}
