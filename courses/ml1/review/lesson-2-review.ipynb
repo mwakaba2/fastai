{
 "cells": [
  {
   "cell_type": "code",
   "execution_count": 3,
   "metadata": {},
   "outputs": [],
   "source": [
    "import sys\n",
    "\n",
    "sys.path.append('../')"
   ]
  },
  {
   "cell_type": "code",
   "execution_count": 1,
   "metadata": {},
   "outputs": [],
   "source": [
    "%load_ext autoreload\n",
    "%autoreload 2"
   ]
  },
  {
   "cell_type": "code",
   "execution_count": 4,
   "metadata": {},
   "outputs": [],
   "source": [
    "%matplotlib inline\n",
    "\n",
    "from fastai.imports import *\n",
    "from fastai.structured import *\n",
    "from pandas_summary import DataFrameSummary\n",
    "from sklearn.ensemble import RandomForestRegressor, RandomForestClassifier\n",
    "from IPython.display import display\n",
    "from sklearn import metrics"
   ]
  },
  {
   "cell_type": "code",
   "execution_count": 5,
   "metadata": {},
   "outputs": [],
   "source": [
    "set_plot_sizes(12, 14, 16)"
   ]
  },
  {
   "cell_type": "code",
   "execution_count": 14,
   "metadata": {},
   "outputs": [],
   "source": [
    "PATH = '../data/bulldozers'\n",
    "df_raw = pd.read_feather(f'{PATH}/tmp/bulldozers-raw')\n",
    "df_trn, y_trn, nas = proc_df(df_raw, 'SalePrice')"
   ]
  },
  {
   "cell_type": "code",
   "execution_count": 15,
   "metadata": {},
   "outputs": [],
   "source": [
    "def split_vals(a,n): return a[:n], a[n:]\n",
    "n_valid = 12000\n",
    "n_trn = len(df_trn)-n_valid\n",
    "X_train, X_valid = split_vals(df_trn, n_trn)\n",
    "y_train, y_valid = split_vals(y_trn, n_trn)\n",
    "raw_train, raw_valid = split_vals(df_raw, n_trn)"
   ]
  },
  {
   "cell_type": "code",
   "execution_count": 27,
   "metadata": {},
   "outputs": [],
   "source": [
    "def rmse(x,y): return math.sqrt(((x-y)**2).mean())\n",
    "\n",
    "def print_score(m):\n",
    "    res = [('TRAIN RMS Error', rmse(m.predict(X_train), y_train)), \n",
    "           ('VAL RMS Error', rmse(m.predict(X_valid), y_valid)),\n",
    "           ('R^2 TRAIN', m.score(X_train, y_train)), \n",
    "           ('R^2 VAL', m.score(X_valid, y_valid))]\n",
    "    if hasattr(m, 'oob_score_'): res.append(('OOB SCORE', m.oob_score_))\n",
    "    for score_type, score in res:\n",
    "        print(score_type, ' ', score)"
   ]
  },
  {
   "cell_type": "code",
   "execution_count": 28,
   "metadata": {},
   "outputs": [
    {
     "data": {
      "text/html": [
       "<div>\n",
       "<style scoped>\n",
       "    .dataframe tbody tr th:only-of-type {\n",
       "        vertical-align: middle;\n",
       "    }\n",
       "\n",
       "    .dataframe tbody tr th {\n",
       "        vertical-align: top;\n",
       "    }\n",
       "\n",
       "    .dataframe thead th {\n",
       "        text-align: right;\n",
       "    }\n",
       "</style>\n",
       "<table border=\"1\" class=\"dataframe\">\n",
       "  <thead>\n",
       "    <tr style=\"text-align: right;\">\n",
       "      <th></th>\n",
       "      <th>SalesID</th>\n",
       "      <th>SalePrice</th>\n",
       "      <th>MachineID</th>\n",
       "      <th>ModelID</th>\n",
       "      <th>datasource</th>\n",
       "      <th>auctioneerID</th>\n",
       "      <th>YearMade</th>\n",
       "      <th>MachineHoursCurrentMeter</th>\n",
       "      <th>UsageBand</th>\n",
       "      <th>fiModelDesc</th>\n",
       "      <th>...</th>\n",
       "      <th>saleDay</th>\n",
       "      <th>saleDayofweek</th>\n",
       "      <th>saleDayofyear</th>\n",
       "      <th>saleIs_month_end</th>\n",
       "      <th>saleIs_month_start</th>\n",
       "      <th>saleIs_quarter_end</th>\n",
       "      <th>saleIs_quarter_start</th>\n",
       "      <th>saleIs_year_end</th>\n",
       "      <th>saleIs_year_start</th>\n",
       "      <th>saleElapsed</th>\n",
       "    </tr>\n",
       "  </thead>\n",
       "  <tbody>\n",
       "    <tr>\n",
       "      <th>0</th>\n",
       "      <td>1139246</td>\n",
       "      <td>11.097410</td>\n",
       "      <td>999089</td>\n",
       "      <td>3157</td>\n",
       "      <td>121</td>\n",
       "      <td>3.0</td>\n",
       "      <td>2004</td>\n",
       "      <td>68.0</td>\n",
       "      <td>2</td>\n",
       "      <td>521D</td>\n",
       "      <td>...</td>\n",
       "      <td>16</td>\n",
       "      <td>3</td>\n",
       "      <td>320</td>\n",
       "      <td>False</td>\n",
       "      <td>False</td>\n",
       "      <td>False</td>\n",
       "      <td>False</td>\n",
       "      <td>False</td>\n",
       "      <td>False</td>\n",
       "      <td>1163635200</td>\n",
       "    </tr>\n",
       "    <tr>\n",
       "      <th>1</th>\n",
       "      <td>1139248</td>\n",
       "      <td>10.950807</td>\n",
       "      <td>117657</td>\n",
       "      <td>77</td>\n",
       "      <td>121</td>\n",
       "      <td>3.0</td>\n",
       "      <td>1996</td>\n",
       "      <td>4640.0</td>\n",
       "      <td>2</td>\n",
       "      <td>950FII</td>\n",
       "      <td>...</td>\n",
       "      <td>26</td>\n",
       "      <td>4</td>\n",
       "      <td>86</td>\n",
       "      <td>False</td>\n",
       "      <td>False</td>\n",
       "      <td>False</td>\n",
       "      <td>False</td>\n",
       "      <td>False</td>\n",
       "      <td>False</td>\n",
       "      <td>1080259200</td>\n",
       "    </tr>\n",
       "    <tr>\n",
       "      <th>2</th>\n",
       "      <td>1139249</td>\n",
       "      <td>9.210340</td>\n",
       "      <td>434808</td>\n",
       "      <td>7009</td>\n",
       "      <td>121</td>\n",
       "      <td>3.0</td>\n",
       "      <td>2001</td>\n",
       "      <td>2838.0</td>\n",
       "      <td>0</td>\n",
       "      <td>226</td>\n",
       "      <td>...</td>\n",
       "      <td>26</td>\n",
       "      <td>3</td>\n",
       "      <td>57</td>\n",
       "      <td>False</td>\n",
       "      <td>False</td>\n",
       "      <td>False</td>\n",
       "      <td>False</td>\n",
       "      <td>False</td>\n",
       "      <td>False</td>\n",
       "      <td>1077753600</td>\n",
       "    </tr>\n",
       "    <tr>\n",
       "      <th>3</th>\n",
       "      <td>1139251</td>\n",
       "      <td>10.558414</td>\n",
       "      <td>1026470</td>\n",
       "      <td>332</td>\n",
       "      <td>121</td>\n",
       "      <td>3.0</td>\n",
       "      <td>2001</td>\n",
       "      <td>3486.0</td>\n",
       "      <td>0</td>\n",
       "      <td>PC120-6E</td>\n",
       "      <td>...</td>\n",
       "      <td>19</td>\n",
       "      <td>3</td>\n",
       "      <td>139</td>\n",
       "      <td>False</td>\n",
       "      <td>False</td>\n",
       "      <td>False</td>\n",
       "      <td>False</td>\n",
       "      <td>False</td>\n",
       "      <td>False</td>\n",
       "      <td>1305763200</td>\n",
       "    </tr>\n",
       "    <tr>\n",
       "      <th>4</th>\n",
       "      <td>1139253</td>\n",
       "      <td>9.305651</td>\n",
       "      <td>1057373</td>\n",
       "      <td>17311</td>\n",
       "      <td>121</td>\n",
       "      <td>3.0</td>\n",
       "      <td>2007</td>\n",
       "      <td>722.0</td>\n",
       "      <td>1</td>\n",
       "      <td>S175</td>\n",
       "      <td>...</td>\n",
       "      <td>23</td>\n",
       "      <td>3</td>\n",
       "      <td>204</td>\n",
       "      <td>False</td>\n",
       "      <td>False</td>\n",
       "      <td>False</td>\n",
       "      <td>False</td>\n",
       "      <td>False</td>\n",
       "      <td>False</td>\n",
       "      <td>1248307200</td>\n",
       "    </tr>\n",
       "  </tbody>\n",
       "</table>\n",
       "<p>5 rows × 65 columns</p>\n",
       "</div>"
      ],
      "text/plain": [
       "   SalesID  SalePrice  MachineID  ModelID  datasource  auctioneerID  YearMade  \\\n",
       "0  1139246  11.097410     999089     3157         121           3.0      2004   \n",
       "1  1139248  10.950807     117657       77         121           3.0      1996   \n",
       "2  1139249   9.210340     434808     7009         121           3.0      2001   \n",
       "3  1139251  10.558414    1026470      332         121           3.0      2001   \n",
       "4  1139253   9.305651    1057373    17311         121           3.0      2007   \n",
       "\n",
       "   MachineHoursCurrentMeter  UsageBand fiModelDesc  ... saleDay saleDayofweek  \\\n",
       "0                      68.0          2        521D  ...      16             3   \n",
       "1                    4640.0          2      950FII  ...      26             4   \n",
       "2                    2838.0          0         226  ...      26             3   \n",
       "3                    3486.0          0    PC120-6E  ...      19             3   \n",
       "4                     722.0          1        S175  ...      23             3   \n",
       "\n",
       "  saleDayofyear saleIs_month_end saleIs_month_start saleIs_quarter_end  \\\n",
       "0           320            False              False              False   \n",
       "1            86            False              False              False   \n",
       "2            57            False              False              False   \n",
       "3           139            False              False              False   \n",
       "4           204            False              False              False   \n",
       "\n",
       "  saleIs_quarter_start saleIs_year_end saleIs_year_start saleElapsed  \n",
       "0                False           False             False  1163635200  \n",
       "1                False           False             False  1080259200  \n",
       "2                False           False             False  1077753600  \n",
       "3                False           False             False  1305763200  \n",
       "4                False           False             False  1248307200  \n",
       "\n",
       "[5 rows x 65 columns]"
      ]
     },
     "execution_count": 28,
     "metadata": {},
     "output_type": "execute_result"
    }
   ],
   "source": [
    "df_raw.head()"
   ]
  },
  {
   "cell_type": "code",
   "execution_count": 29,
   "metadata": {},
   "outputs": [
    {
     "data": {
      "text/plain": [
       "(401125, 65)"
      ]
     },
     "execution_count": 29,
     "metadata": {},
     "output_type": "execute_result"
    }
   ],
   "source": [
    "df_raw.shape"
   ]
  },
  {
   "cell_type": "code",
   "execution_count": 30,
   "metadata": {},
   "outputs": [],
   "source": [
    "set_rf_samples(50000)"
   ]
  },
  {
   "cell_type": "code",
   "execution_count": 31,
   "metadata": {},
   "outputs": [
    {
     "name": "stdout",
     "output_type": "stream",
     "text": [
      "TRAIN RMS Error   0.20635028140035236\n",
      "VAL RMS Error   0.2512111259037204\n",
      "R^2 TRAIN   0.9110092315457571\n",
      "R^2 VAL   0.8872995334392263\n",
      "OOB SCORE   0.8938876545076292\n"
     ]
    }
   ],
   "source": [
    "m = RandomForestRegressor(n_estimators=40, min_samples_leaf=3, max_features=0.5, n_jobs=-1, oob_score=True)\n",
    "m.fit(X_train, y_train)\n",
    "print_score(m)"
   ]
  },
  {
   "cell_type": "code",
   "execution_count": 32,
   "metadata": {},
   "outputs": [
    {
     "name": "stdout",
     "output_type": "stream",
     "text": [
      "CPU times: user 1.55 s, sys: 4.83 ms, total: 1.56 s\n",
      "Wall time: 1.55 s\n"
     ]
    },
    {
     "data": {
      "text/plain": [
       "(9.28198906567052, 0.3297943730247762)"
      ]
     },
     "execution_count": 32,
     "metadata": {},
     "output_type": "execute_result"
    }
   ],
   "source": [
    "%time preds = np.stack([t.predict(X_valid) for t in m.estimators_])\n",
    "np.mean(preds[:, 0]), np.std(preds[:, 0])"
   ]
  },
  {
   "cell_type": "code",
   "execution_count": 34,
   "metadata": {},
   "outputs": [
    {
     "name": "stdout",
     "output_type": "stream",
     "text": [
      "CPU times: user 65.6 ms, sys: 59 ms, total: 125 ms\n",
      "Wall time: 528 ms\n"
     ]
    },
    {
     "data": {
      "text/plain": [
       "(9.28198906567052, 0.3297943730247762)"
      ]
     },
     "execution_count": 34,
     "metadata": {},
     "output_type": "execute_result"
    }
   ],
   "source": [
    "def get_preds(t): return t.predict(X_valid)\n",
    "%time preds = np.stack(parallel_trees(m, get_preds))\n",
    "np.mean(preds[:, 0]), np.std(preds[:, 0])"
   ]
  },
  {
   "cell_type": "code",
   "execution_count": 35,
   "metadata": {},
   "outputs": [
    {
     "data": {
      "text/plain": [
       "<matplotlib.axes._subplots.AxesSubplot at 0x1c36295780>"
      ]
     },
     "execution_count": 35,
     "metadata": {},
     "output_type": "execute_result"
    },
    {
     "data": {
      "image/png": "[encoded data removed]",
      "text/plain": [
       "<Figure size 432x288 with 1 Axes>"
      ]
     },
     "metadata": {
      "needs_background": "light"
     },
     "output_type": "display_data"
    }
   ],
   "source": [
    "x = raw_valid.copy()\n",
    "x['pred_std'] = np.std(preds, axis=0)\n",
    "x['pred'] = np.mean(preds, axis=0)\n",
    "x.Enclosure.value_counts().plot.barh()"
   ]
  },
  {
   "cell_type": "code",
   "execution_count": 36,
   "metadata": {},
   "outputs": [
    {
     "data": {
      "text/html": [
       "<div>\n",
       "<style scoped>\n",
       "    .dataframe tbody tr th:only-of-type {\n",
       "        vertical-align: middle;\n",
       "    }\n",
       "\n",
       "    .dataframe tbody tr th {\n",
       "        vertical-align: top;\n",
       "    }\n",
       "\n",
       "    .dataframe thead th {\n",
       "        text-align: right;\n",
       "    }\n",
       "</style>\n",
       "<table border=\"1\" class=\"dataframe\">\n",
       "  <thead>\n",
       "    <tr style=\"text-align: right;\">\n",
       "      <th></th>\n",
       "      <th>Enclosure</th>\n",
       "      <th>SalePrice</th>\n",
       "      <th>pred</th>\n",
       "      <th>pred_std</th>\n",
       "    </tr>\n",
       "  </thead>\n",
       "  <tbody>\n",
       "    <tr>\n",
       "      <th>0</th>\n",
       "      <td>EROPS</td>\n",
       "      <td>9.849178</td>\n",
       "      <td>9.835186</td>\n",
       "      <td>0.276838</td>\n",
       "    </tr>\n",
       "    <tr>\n",
       "      <th>1</th>\n",
       "      <td>EROPS AC</td>\n",
       "      <td>NaN</td>\n",
       "      <td>NaN</td>\n",
       "      <td>NaN</td>\n",
       "    </tr>\n",
       "    <tr>\n",
       "      <th>2</th>\n",
       "      <td>EROPS w AC</td>\n",
       "      <td>10.623971</td>\n",
       "      <td>10.570648</td>\n",
       "      <td>0.264936</td>\n",
       "    </tr>\n",
       "    <tr>\n",
       "      <th>3</th>\n",
       "      <td>NO ROPS</td>\n",
       "      <td>NaN</td>\n",
       "      <td>NaN</td>\n",
       "      <td>NaN</td>\n",
       "    </tr>\n",
       "    <tr>\n",
       "      <th>4</th>\n",
       "      <td>None or Unspecified</td>\n",
       "      <td>NaN</td>\n",
       "      <td>NaN</td>\n",
       "      <td>NaN</td>\n",
       "    </tr>\n",
       "    <tr>\n",
       "      <th>5</th>\n",
       "      <td>OROPS</td>\n",
       "      <td>9.682064</td>\n",
       "      <td>9.683281</td>\n",
       "      <td>0.220906</td>\n",
       "    </tr>\n",
       "  </tbody>\n",
       "</table>\n",
       "</div>"
      ],
      "text/plain": [
       "             Enclosure  SalePrice       pred  pred_std\n",
       "0                EROPS   9.849178   9.835186  0.276838\n",
       "1             EROPS AC        NaN        NaN       NaN\n",
       "2           EROPS w AC  10.623971  10.570648  0.264936\n",
       "3              NO ROPS        NaN        NaN       NaN\n",
       "4  None or Unspecified        NaN        NaN       NaN\n",
       "5                OROPS   9.682064   9.683281  0.220906"
      ]
     },
     "execution_count": 36,
     "metadata": {},
     "output_type": "execute_result"
    }
   ],
   "source": [
    "flds = ['Enclosure', 'SalePrice', 'pred', 'pred_std']\n",
    "enc_summ = x[flds].groupby('Enclosure', as_index=False).mean()\n",
    "enc_summ"
   ]
  },
  {
   "cell_type": "code",
   "execution_count": 37,
   "metadata": {},
   "outputs": [
    {
     "data": {
      "text/plain": [
       "<matplotlib.axes._subplots.AxesSubplot at 0x1c35ce17f0>"
      ]
     },
     "execution_count": 37,
     "metadata": {},
     "output_type": "execute_result"
    },
    {
     "data": {
      "image/png": "[encoded data removed]",
      "text/plain": [
       "<Figure size 432x288 with 1 Axes>"
      ]
     },
     "metadata": {
      "needs_background": "light"
     },
     "output_type": "display_data"
    }
   ],
   "source": [
    "enc_summ = enc_summ[~pd.isnull(enc_summ.SalePrice)]\n",
    "enc_summ.plot('Enclosure', 'SalePrice', 'barh', xlim=(0, 11))"
   ]
  },
  {
   "cell_type": "code",
   "execution_count": 38,
   "metadata": {},
   "outputs": [
    {
     "data": {
      "text/plain": [
       "<matplotlib.axes._subplots.AxesSubplot at 0x1c34d10ac8>"
      ]
     },
     "execution_count": 38,
     "metadata": {},
     "output_type": "execute_result"
    },
    {
     "data": {
      "image/png": "[encoded data removed]",
      "text/plain": [
       "<Figure size 432x288 with 1 Axes>"
      ]
     },
     "metadata": {
      "needs_background": "light"
     },
     "output_type": "display_data"
    }
   ],
   "source": [
    "enc_summ.plot('Enclosure', 'pred', 'barh', xerr='pred_std', alpha=0.6, xlim=(0, 11))"
   ]
  },
  {
   "cell_type": "code",
   "execution_count": 40,
   "metadata": {},
   "outputs": [
    {
     "data": {
      "text/plain": [
       "<matplotlib.axes._subplots.AxesSubplot at 0x1c34e57898>"
      ]
     },
     "execution_count": 40,
     "metadata": {},
     "output_type": "execute_result"
    },
    {
     "data": {
      "image/png": "[encoded data removed]",
      "text/plain": [
       "<Figure size 432x288 with 1 Axes>"
      ]
     },
     "metadata": {
      "needs_background": "light"
     },
     "output_type": "display_data"
    }
   ],
   "source": [
    "raw_valid.ProductSize.value_counts().plot.barh()"
   ]
  },
  {
   "cell_type": "code",
   "execution_count": 43,
   "metadata": {},
   "outputs": [
    {
     "data": {
      "text/html": [
       "<div>\n",
       "<style scoped>\n",
       "    .dataframe tbody tr th:only-of-type {\n",
       "        vertical-align: middle;\n",
       "    }\n",
       "\n",
       "    .dataframe tbody tr th {\n",
       "        vertical-align: top;\n",
       "    }\n",
       "\n",
       "    .dataframe thead th {\n",
       "        text-align: right;\n",
       "    }\n",
       "</style>\n",
       "<table border=\"1\" class=\"dataframe\">\n",
       "  <thead>\n",
       "    <tr style=\"text-align: right;\">\n",
       "      <th></th>\n",
       "      <th>SalePrice</th>\n",
       "      <th>pred</th>\n",
       "      <th>pred_std</th>\n",
       "    </tr>\n",
       "    <tr>\n",
       "      <th>ProductSize</th>\n",
       "      <th></th>\n",
       "      <th></th>\n",
       "      <th></th>\n",
       "    </tr>\n",
       "  </thead>\n",
       "  <tbody>\n",
       "    <tr>\n",
       "      <th>Large</th>\n",
       "      <td>10.470589</td>\n",
       "      <td>10.376888</td>\n",
       "      <td>0.356777</td>\n",
       "    </tr>\n",
       "    <tr>\n",
       "      <th>Compact</th>\n",
       "      <td>9.735093</td>\n",
       "      <td>9.853989</td>\n",
       "      <td>0.347687</td>\n",
       "    </tr>\n",
       "    <tr>\n",
       "      <th>Small</th>\n",
       "      <td>10.324448</td>\n",
       "      <td>10.321286</td>\n",
       "      <td>0.312936</td>\n",
       "    </tr>\n",
       "    <tr>\n",
       "      <th>Large / Medium</th>\n",
       "      <td>10.691871</td>\n",
       "      <td>10.646286</td>\n",
       "      <td>0.290825</td>\n",
       "    </tr>\n",
       "    <tr>\n",
       "      <th>Medium</th>\n",
       "      <td>10.681511</td>\n",
       "      <td>10.610656</td>\n",
       "      <td>0.288514</td>\n",
       "    </tr>\n",
       "    <tr>\n",
       "      <th>Mini</th>\n",
       "      <td>9.535147</td>\n",
       "      <td>9.558347</td>\n",
       "      <td>0.250201</td>\n",
       "    </tr>\n",
       "  </tbody>\n",
       "</table>\n",
       "</div>"
      ],
      "text/plain": [
       "                SalePrice       pred  pred_std\n",
       "ProductSize                                   \n",
       "Large           10.470589  10.376888  0.356777\n",
       "Compact          9.735093   9.853989  0.347687\n",
       "Small           10.324448  10.321286  0.312936\n",
       "Large / Medium  10.691871  10.646286  0.290825\n",
       "Medium          10.681511  10.610656  0.288514\n",
       "Mini             9.535147   9.558347  0.250201"
      ]
     },
     "execution_count": 43,
     "metadata": {},
     "output_type": "execute_result"
    }
   ],
   "source": [
    "flds = ['ProductSize', 'SalePrice', 'pred', 'pred_std']\n",
    "summ = x[flds].groupby('ProductSize').mean().sort_values('pred_std', ascending=False)\n",
    "summ"
   ]
  },
  {
   "cell_type": "code",
   "execution_count": 44,
   "metadata": {},
   "outputs": [
    {
     "data": {
      "text/plain": [
       "ProductSize\n",
       "Compact           0.035284\n",
       "Large             0.034382\n",
       "Small             0.030320\n",
       "Large / Medium    0.027317\n",
       "Medium            0.027191\n",
       "Mini              0.026176\n",
       "dtype: float64"
      ]
     },
     "execution_count": 44,
     "metadata": {},
     "output_type": "execute_result"
    }
   ],
   "source": [
    "(summ.pred_std / summ.pred).sort_values(ascending=False)"
   ]
  },
  {
   "cell_type": "code",
   "execution_count": 45,
   "metadata": {},
   "outputs": [
    {
     "data": {
      "text/html": [
       "<div>\n",
       "<style scoped>\n",
       "    .dataframe tbody tr th:only-of-type {\n",
       "        vertical-align: middle;\n",
       "    }\n",
       "\n",
       "    .dataframe tbody tr th {\n",
       "        vertical-align: top;\n",
       "    }\n",
       "\n",
       "    .dataframe thead th {\n",
       "        text-align: right;\n",
       "    }\n",
       "</style>\n",
       "<table border=\"1\" class=\"dataframe\">\n",
       "  <thead>\n",
       "    <tr style=\"text-align: right;\">\n",
       "      <th></th>\n",
       "      <th>cols</th>\n",
       "      <th>imp</th>\n",
       "    </tr>\n",
       "  </thead>\n",
       "  <tbody>\n",
       "    <tr>\n",
       "      <th>5</th>\n",
       "      <td>YearMade</td>\n",
       "      <td>0.171029</td>\n",
       "    </tr>\n",
       "    <tr>\n",
       "      <th>37</th>\n",
       "      <td>Coupler_System</td>\n",
       "      <td>0.107455</td>\n",
       "    </tr>\n",
       "    <tr>\n",
       "      <th>13</th>\n",
       "      <td>ProductSize</td>\n",
       "      <td>0.087000</td>\n",
       "    </tr>\n",
       "    <tr>\n",
       "      <th>14</th>\n",
       "      <td>fiProductClassDesc</td>\n",
       "      <td>0.083739</td>\n",
       "    </tr>\n",
       "    <tr>\n",
       "      <th>63</th>\n",
       "      <td>saleElapsed</td>\n",
       "      <td>0.049460</td>\n",
       "    </tr>\n",
       "    <tr>\n",
       "      <th>10</th>\n",
       "      <td>fiSecondaryDesc</td>\n",
       "      <td>0.049099</td>\n",
       "    </tr>\n",
       "    <tr>\n",
       "      <th>2</th>\n",
       "      <td>ModelID</td>\n",
       "      <td>0.048228</td>\n",
       "    </tr>\n",
       "    <tr>\n",
       "      <th>38</th>\n",
       "      <td>Grouser_Tracks</td>\n",
       "      <td>0.047513</td>\n",
       "    </tr>\n",
       "    <tr>\n",
       "      <th>39</th>\n",
       "      <td>Hydraulics_Flow</td>\n",
       "      <td>0.046501</td>\n",
       "    </tr>\n",
       "    <tr>\n",
       "      <th>19</th>\n",
       "      <td>Enclosure</td>\n",
       "      <td>0.038531</td>\n",
       "    </tr>\n",
       "  </tbody>\n",
       "</table>\n",
       "</div>"
      ],
      "text/plain": [
       "                  cols       imp\n",
       "5             YearMade  0.171029\n",
       "37      Coupler_System  0.107455\n",
       "13         ProductSize  0.087000\n",
       "14  fiProductClassDesc  0.083739\n",
       "63         saleElapsed  0.049460\n",
       "10     fiSecondaryDesc  0.049099\n",
       "2              ModelID  0.048228\n",
       "38      Grouser_Tracks  0.047513\n",
       "39     Hydraulics_Flow  0.046501\n",
       "19           Enclosure  0.038531"
      ]
     },
     "execution_count": 45,
     "metadata": {},
     "output_type": "execute_result"
    }
   ],
   "source": [
    "fi = rf_feat_importance(m, df_trn)\n",
    "fi[:10]"
   ]
  },
  {
   "cell_type": "code",
   "execution_count": 49,
   "metadata": {},
   "outputs": [
    {
     "data": {
      "text/plain": [
       "<matplotlib.axes._subplots.AxesSubplot at 0x1c3141ffd0>"
      ]
     },
     "execution_count": 49,
     "metadata": {},
     "output_type": "execute_result"
    },
    {
     "data": {
      "image/png": "[encoded data removed]",
      "text/plain": [
       "<Figure size 720x432 with 1 Axes>"
      ]
     },
     "metadata": {
      "needs_background": "light"
     },
     "output_type": "display_data"
    }
   ],
   "source": [
    "fi.plot('cols', 'imp', figsize=(10, 6), legend=False)"
   ]
  },
  {
   "cell_type": "code",
   "execution_count": 51,
   "metadata": {},
   "outputs": [],
   "source": [
    "def plot_fi(fi):\n",
    "    return fi.plot('cols', 'imp', 'barh',\n",
    "                   figsize=(12,7), legend=False)"
   ]
  },
  {
   "cell_type": "code",
   "execution_count": 52,
   "metadata": {},
   "outputs": [
    {
     "data": {
      "text/plain": [
       "<matplotlib.axes._subplots.AxesSubplot at 0x1c316fc1d0>"
      ]
     },
     "execution_count": 52,
     "metadata": {},
     "output_type": "execute_result"
    },
    {
     "data": {
      "image/png": "[encoded data removed]",
      "text/plain": [
       "<Figure size 864x504 with 1 Axes>"
      ]
     },
     "metadata": {
      "needs_background": "light"
     },
     "output_type": "display_data"
    }
   ],
   "source": [
    "plot_fi(fi[:30])"
   ]
  },
  {
   "cell_type": "code",
   "execution_count": 53,
   "metadata": {},
   "outputs": [
    {
     "data": {
      "text/plain": [
       "24"
      ]
     },
     "execution_count": 53,
     "metadata": {},
     "output_type": "execute_result"
    }
   ],
   "source": [
    "to_keep = fi[fi.imp>0.005].cols\n",
    "len(to_keep)"
   ]
  },
  {
   "cell_type": "code",
   "execution_count": 54,
   "metadata": {},
   "outputs": [],
   "source": [
    "df_keep = df_trn[to_keep].copy()\n",
    "X_train, X_valid = split_vals(df_keep, n_trn)"
   ]
  },
  {
   "cell_type": "code",
   "execution_count": 55,
   "metadata": {},
   "outputs": [
    {
     "name": "stdout",
     "output_type": "stream",
     "text": [
      "TRAIN RMS Error   0.20686316063010804\n",
      "VAL RMS Error   0.2456784070950091\n",
      "R^2 TRAIN   0.9105663124765025\n",
      "R^2 VAL   0.8922091369504397\n",
      "OOB SCORE   0.894200227662837\n"
     ]
    }
   ],
   "source": [
    "m = RandomForestRegressor(n_estimators=40, min_samples_leaf=3,\n",
    "                          max_features=0.5, n_jobs=-1, oob_score=True)\n",
    "m.fit(X_train, y_train)\n",
    "print_score(m)"
   ]
  },
  {
   "cell_type": "code",
   "execution_count": 56,
   "metadata": {},
   "outputs": [
    {
     "data": {
      "text/plain": [
       "<matplotlib.axes._subplots.AxesSubplot at 0x1c3176d358>"
      ]
     },
     "execution_count": 56,
     "metadata": {},
     "output_type": "execute_result"
    },
    {
     "data": {
      "image/png": "[encoded data removed]",
      "text/plain": [
       "<Figure size 864x504 with 1 Axes>"
      ]
     },
     "metadata": {
      "needs_background": "light"
     },
     "output_type": "display_data"
    }
   ],
   "source": [
    "fi= rf_feat_importance(m, df_keep)\n",
    "plot_fi(fi)"
   ]
  },
  {
   "cell_type": "code",
   "execution_count": 58,
   "metadata": {},
   "outputs": [
    {
     "data": {
      "text/plain": [
       "<matplotlib.axes._subplots.AxesSubplot at 0x1c31729c88>"
      ]
     },
     "execution_count": 58,
     "metadata": {},
     "output_type": "execute_result"
    },
    {
     "data": {
      "image/png": "[encoded data removed]",
      "text/plain": [
       "<Figure size 720x1440 with 1 Axes>"
      ]
     },
     "metadata": {
      "needs_background": "light"
     },
     "output_type": "display_data"
    }
   ],
   "source": [
    "# Check YearMade\n",
    "\n",
    "x.YearMade.value_counts().plot.barh(figsize=(10,20))"
   ]
  },
  {
   "cell_type": "code",
   "execution_count": 62,
   "metadata": {},
   "outputs": [
    {
     "data": {
      "text/html": [
       "<div>\n",
       "<style scoped>\n",
       "    .dataframe tbody tr th:only-of-type {\n",
       "        vertical-align: middle;\n",
       "    }\n",
       "\n",
       "    .dataframe tbody tr th {\n",
       "        vertical-align: top;\n",
       "    }\n",
       "\n",
       "    .dataframe thead th {\n",
       "        text-align: right;\n",
       "    }\n",
       "</style>\n",
       "<table border=\"1\" class=\"dataframe\">\n",
       "  <thead>\n",
       "    <tr style=\"text-align: right;\">\n",
       "      <th></th>\n",
       "      <th>YearMade</th>\n",
       "      <th>SalePrice</th>\n",
       "      <th>pred</th>\n",
       "      <th>pred_std</th>\n",
       "    </tr>\n",
       "  </thead>\n",
       "  <tbody>\n",
       "    <tr>\n",
       "      <th>1</th>\n",
       "      <td>1956</td>\n",
       "      <td>8.987197</td>\n",
       "      <td>9.388850</td>\n",
       "      <td>0.435469</td>\n",
       "    </tr>\n",
       "    <tr>\n",
       "      <th>3</th>\n",
       "      <td>1961</td>\n",
       "      <td>9.132379</td>\n",
       "      <td>9.516681</td>\n",
       "      <td>0.406035</td>\n",
       "    </tr>\n",
       "    <tr>\n",
       "      <th>0</th>\n",
       "      <td>1000</td>\n",
       "      <td>9.769063</td>\n",
       "      <td>9.668818</td>\n",
       "      <td>0.369753</td>\n",
       "    </tr>\n",
       "    <tr>\n",
       "      <th>22</th>\n",
       "      <td>1980</td>\n",
       "      <td>9.949491</td>\n",
       "      <td>9.996295</td>\n",
       "      <td>0.330340</td>\n",
       "    </tr>\n",
       "    <tr>\n",
       "      <th>12</th>\n",
       "      <td>1970</td>\n",
       "      <td>9.496778</td>\n",
       "      <td>9.475867</td>\n",
       "      <td>0.328459</td>\n",
       "    </tr>\n",
       "    <tr>\n",
       "      <th>18</th>\n",
       "      <td>1976</td>\n",
       "      <td>10.055493</td>\n",
       "      <td>9.988895</td>\n",
       "      <td>0.325578</td>\n",
       "    </tr>\n",
       "    <tr>\n",
       "      <th>19</th>\n",
       "      <td>1977</td>\n",
       "      <td>9.876412</td>\n",
       "      <td>9.878730</td>\n",
       "      <td>0.317656</td>\n",
       "    </tr>\n",
       "    <tr>\n",
       "      <th>15</th>\n",
       "      <td>1973</td>\n",
       "      <td>9.688554</td>\n",
       "      <td>9.634976</td>\n",
       "      <td>0.315160</td>\n",
       "    </tr>\n",
       "    <tr>\n",
       "      <th>20</th>\n",
       "      <td>1978</td>\n",
       "      <td>9.962585</td>\n",
       "      <td>9.970671</td>\n",
       "      <td>0.313664</td>\n",
       "    </tr>\n",
       "    <tr>\n",
       "      <th>10</th>\n",
       "      <td>1968</td>\n",
       "      <td>9.573605</td>\n",
       "      <td>9.581807</td>\n",
       "      <td>0.312351</td>\n",
       "    </tr>\n",
       "    <tr>\n",
       "      <th>17</th>\n",
       "      <td>1975</td>\n",
       "      <td>9.980834</td>\n",
       "      <td>9.947056</td>\n",
       "      <td>0.311619</td>\n",
       "    </tr>\n",
       "    <tr>\n",
       "      <th>7</th>\n",
       "      <td>1965</td>\n",
       "      <td>9.166260</td>\n",
       "      <td>9.483423</td>\n",
       "      <td>0.310095</td>\n",
       "    </tr>\n",
       "    <tr>\n",
       "      <th>52</th>\n",
       "      <td>2010</td>\n",
       "      <td>10.357166</td>\n",
       "      <td>10.109240</td>\n",
       "      <td>0.310030</td>\n",
       "    </tr>\n",
       "    <tr>\n",
       "      <th>29</th>\n",
       "      <td>1987</td>\n",
       "      <td>9.782496</td>\n",
       "      <td>9.821652</td>\n",
       "      <td>0.303782</td>\n",
       "    </tr>\n",
       "    <tr>\n",
       "      <th>21</th>\n",
       "      <td>1979</td>\n",
       "      <td>9.944816</td>\n",
       "      <td>10.027884</td>\n",
       "      <td>0.299730</td>\n",
       "    </tr>\n",
       "    <tr>\n",
       "      <th>11</th>\n",
       "      <td>1969</td>\n",
       "      <td>9.533902</td>\n",
       "      <td>9.638064</td>\n",
       "      <td>0.299237</td>\n",
       "    </tr>\n",
       "    <tr>\n",
       "      <th>8</th>\n",
       "      <td>1966</td>\n",
       "      <td>9.499743</td>\n",
       "      <td>9.513547</td>\n",
       "      <td>0.298083</td>\n",
       "    </tr>\n",
       "    <tr>\n",
       "      <th>26</th>\n",
       "      <td>1984</td>\n",
       "      <td>9.967959</td>\n",
       "      <td>9.994456</td>\n",
       "      <td>0.295423</td>\n",
       "    </tr>\n",
       "    <tr>\n",
       "      <th>32</th>\n",
       "      <td>1990</td>\n",
       "      <td>9.783324</td>\n",
       "      <td>9.810318</td>\n",
       "      <td>0.293851</td>\n",
       "    </tr>\n",
       "    <tr>\n",
       "      <th>6</th>\n",
       "      <td>1964</td>\n",
       "      <td>9.584070</td>\n",
       "      <td>9.421713</td>\n",
       "      <td>0.292501</td>\n",
       "    </tr>\n",
       "    <tr>\n",
       "      <th>31</th>\n",
       "      <td>1989</td>\n",
       "      <td>9.871419</td>\n",
       "      <td>9.859150</td>\n",
       "      <td>0.292500</td>\n",
       "    </tr>\n",
       "    <tr>\n",
       "      <th>27</th>\n",
       "      <td>1985</td>\n",
       "      <td>9.984622</td>\n",
       "      <td>10.049023</td>\n",
       "      <td>0.289825</td>\n",
       "    </tr>\n",
       "    <tr>\n",
       "      <th>13</th>\n",
       "      <td>1971</td>\n",
       "      <td>9.405278</td>\n",
       "      <td>9.523355</td>\n",
       "      <td>0.288927</td>\n",
       "    </tr>\n",
       "    <tr>\n",
       "      <th>9</th>\n",
       "      <td>1967</td>\n",
       "      <td>9.362091</td>\n",
       "      <td>9.463148</td>\n",
       "      <td>0.288187</td>\n",
       "    </tr>\n",
       "    <tr>\n",
       "      <th>14</th>\n",
       "      <td>1972</td>\n",
       "      <td>9.673951</td>\n",
       "      <td>9.607045</td>\n",
       "      <td>0.287180</td>\n",
       "    </tr>\n",
       "    <tr>\n",
       "      <th>34</th>\n",
       "      <td>1992</td>\n",
       "      <td>9.881905</td>\n",
       "      <td>9.908292</td>\n",
       "      <td>0.283423</td>\n",
       "    </tr>\n",
       "    <tr>\n",
       "      <th>30</th>\n",
       "      <td>1988</td>\n",
       "      <td>9.955555</td>\n",
       "      <td>9.965921</td>\n",
       "      <td>0.282779</td>\n",
       "    </tr>\n",
       "    <tr>\n",
       "      <th>23</th>\n",
       "      <td>1981</td>\n",
       "      <td>10.035423</td>\n",
       "      <td>10.054523</td>\n",
       "      <td>0.281638</td>\n",
       "    </tr>\n",
       "    <tr>\n",
       "      <th>25</th>\n",
       "      <td>1983</td>\n",
       "      <td>10.078058</td>\n",
       "      <td>10.087342</td>\n",
       "      <td>0.279251</td>\n",
       "    </tr>\n",
       "    <tr>\n",
       "      <th>5</th>\n",
       "      <td>1963</td>\n",
       "      <td>9.417095</td>\n",
       "      <td>9.386732</td>\n",
       "      <td>0.278555</td>\n",
       "    </tr>\n",
       "    <tr>\n",
       "      <th>2</th>\n",
       "      <td>1960</td>\n",
       "      <td>9.325896</td>\n",
       "      <td>9.428313</td>\n",
       "      <td>0.278140</td>\n",
       "    </tr>\n",
       "    <tr>\n",
       "      <th>16</th>\n",
       "      <td>1974</td>\n",
       "      <td>9.940256</td>\n",
       "      <td>9.934337</td>\n",
       "      <td>0.276736</td>\n",
       "    </tr>\n",
       "    <tr>\n",
       "      <th>54</th>\n",
       "      <td>2013</td>\n",
       "      <td>10.915088</td>\n",
       "      <td>11.109500</td>\n",
       "      <td>0.274981</td>\n",
       "    </tr>\n",
       "    <tr>\n",
       "      <th>33</th>\n",
       "      <td>1991</td>\n",
       "      <td>9.814714</td>\n",
       "      <td>9.790780</td>\n",
       "      <td>0.270735</td>\n",
       "    </tr>\n",
       "    <tr>\n",
       "      <th>28</th>\n",
       "      <td>1986</td>\n",
       "      <td>9.842008</td>\n",
       "      <td>9.837353</td>\n",
       "      <td>0.269418</td>\n",
       "    </tr>\n",
       "    <tr>\n",
       "      <th>35</th>\n",
       "      <td>1993</td>\n",
       "      <td>9.944567</td>\n",
       "      <td>9.958249</td>\n",
       "      <td>0.268819</td>\n",
       "    </tr>\n",
       "    <tr>\n",
       "      <th>38</th>\n",
       "      <td>1996</td>\n",
       "      <td>9.912888</td>\n",
       "      <td>9.898877</td>\n",
       "      <td>0.268718</td>\n",
       "    </tr>\n",
       "    <tr>\n",
       "      <th>36</th>\n",
       "      <td>1994</td>\n",
       "      <td>9.957860</td>\n",
       "      <td>9.955692</td>\n",
       "      <td>0.266573</td>\n",
       "    </tr>\n",
       "    <tr>\n",
       "      <th>24</th>\n",
       "      <td>1982</td>\n",
       "      <td>10.253545</td>\n",
       "      <td>10.252176</td>\n",
       "      <td>0.262922</td>\n",
       "    </tr>\n",
       "    <tr>\n",
       "      <th>37</th>\n",
       "      <td>1995</td>\n",
       "      <td>9.960404</td>\n",
       "      <td>9.929343</td>\n",
       "      <td>0.262900</td>\n",
       "    </tr>\n",
       "    <tr>\n",
       "      <th>50</th>\n",
       "      <td>2008</td>\n",
       "      <td>10.370512</td>\n",
       "      <td>10.215709</td>\n",
       "      <td>0.262021</td>\n",
       "    </tr>\n",
       "    <tr>\n",
       "      <th>40</th>\n",
       "      <td>1998</td>\n",
       "      <td>10.065216</td>\n",
       "      <td>10.053203</td>\n",
       "      <td>0.261964</td>\n",
       "    </tr>\n",
       "    <tr>\n",
       "      <th>39</th>\n",
       "      <td>1997</td>\n",
       "      <td>10.078756</td>\n",
       "      <td>10.049179</td>\n",
       "      <td>0.257528</td>\n",
       "    </tr>\n",
       "    <tr>\n",
       "      <th>41</th>\n",
       "      <td>1999</td>\n",
       "      <td>9.999691</td>\n",
       "      <td>9.971385</td>\n",
       "      <td>0.252022</td>\n",
       "    </tr>\n",
       "    <tr>\n",
       "      <th>4</th>\n",
       "      <td>1962</td>\n",
       "      <td>9.104980</td>\n",
       "      <td>9.440133</td>\n",
       "      <td>0.251741</td>\n",
       "    </tr>\n",
       "    <tr>\n",
       "      <th>42</th>\n",
       "      <td>2000</td>\n",
       "      <td>9.902242</td>\n",
       "      <td>9.886950</td>\n",
       "      <td>0.250495</td>\n",
       "    </tr>\n",
       "    <tr>\n",
       "      <th>51</th>\n",
       "      <td>2009</td>\n",
       "      <td>10.260719</td>\n",
       "      <td>10.068358</td>\n",
       "      <td>0.244308</td>\n",
       "    </tr>\n",
       "    <tr>\n",
       "      <th>43</th>\n",
       "      <td>2001</td>\n",
       "      <td>10.033499</td>\n",
       "      <td>10.044402</td>\n",
       "      <td>0.244211</td>\n",
       "    </tr>\n",
       "    <tr>\n",
       "      <th>49</th>\n",
       "      <td>2007</td>\n",
       "      <td>10.382379</td>\n",
       "      <td>10.299078</td>\n",
       "      <td>0.239624</td>\n",
       "    </tr>\n",
       "    <tr>\n",
       "      <th>44</th>\n",
       "      <td>2002</td>\n",
       "      <td>10.024683</td>\n",
       "      <td>10.029356</td>\n",
       "      <td>0.238379</td>\n",
       "    </tr>\n",
       "    <tr>\n",
       "      <th>48</th>\n",
       "      <td>2006</td>\n",
       "      <td>10.241478</td>\n",
       "      <td>10.222910</td>\n",
       "      <td>0.235631</td>\n",
       "    </tr>\n",
       "    <tr>\n",
       "      <th>53</th>\n",
       "      <td>2011</td>\n",
       "      <td>11.166793</td>\n",
       "      <td>10.697105</td>\n",
       "      <td>0.232813</td>\n",
       "    </tr>\n",
       "    <tr>\n",
       "      <th>45</th>\n",
       "      <td>2003</td>\n",
       "      <td>9.943801</td>\n",
       "      <td>9.967424</td>\n",
       "      <td>0.230461</td>\n",
       "    </tr>\n",
       "    <tr>\n",
       "      <th>46</th>\n",
       "      <td>2004</td>\n",
       "      <td>9.978284</td>\n",
       "      <td>9.956935</td>\n",
       "      <td>0.222228</td>\n",
       "    </tr>\n",
       "    <tr>\n",
       "      <th>47</th>\n",
       "      <td>2005</td>\n",
       "      <td>10.038598</td>\n",
       "      <td>10.032942</td>\n",
       "      <td>0.212122</td>\n",
       "    </tr>\n",
       "  </tbody>\n",
       "</table>\n",
       "</div>"
      ],
      "text/plain": [
       "    YearMade  SalePrice       pred  pred_std\n",
       "1       1956   8.987197   9.388850  0.435469\n",
       "3       1961   9.132379   9.516681  0.406035\n",
       "0       1000   9.769063   9.668818  0.369753\n",
       "22      1980   9.949491   9.996295  0.330340\n",
       "12      1970   9.496778   9.475867  0.328459\n",
       "18      1976  10.055493   9.988895  0.325578\n",
       "19      1977   9.876412   9.878730  0.317656\n",
       "15      1973   9.688554   9.634976  0.315160\n",
       "20      1978   9.962585   9.970671  0.313664\n",
       "10      1968   9.573605   9.581807  0.312351\n",
       "17      1975   9.980834   9.947056  0.311619\n",
       "7       1965   9.166260   9.483423  0.310095\n",
       "52      2010  10.357166  10.109240  0.310030\n",
       "29      1987   9.782496   9.821652  0.303782\n",
       "21      1979   9.944816  10.027884  0.299730\n",
       "11      1969   9.533902   9.638064  0.299237\n",
       "8       1966   9.499743   9.513547  0.298083\n",
       "26      1984   9.967959   9.994456  0.295423\n",
       "32      1990   9.783324   9.810318  0.293851\n",
       "6       1964   9.584070   9.421713  0.292501\n",
       "31      1989   9.871419   9.859150  0.292500\n",
       "27      1985   9.984622  10.049023  0.289825\n",
       "13      1971   9.405278   9.523355  0.288927\n",
       "9       1967   9.362091   9.463148  0.288187\n",
       "14      1972   9.673951   9.607045  0.287180\n",
       "34      1992   9.881905   9.908292  0.283423\n",
       "30      1988   9.955555   9.965921  0.282779\n",
       "23      1981  10.035423  10.054523  0.281638\n",
       "25      1983  10.078058  10.087342  0.279251\n",
       "5       1963   9.417095   9.386732  0.278555\n",
       "2       1960   9.325896   9.428313  0.278140\n",
       "16      1974   9.940256   9.934337  0.276736\n",
       "54      2013  10.915088  11.109500  0.274981\n",
       "33      1991   9.814714   9.790780  0.270735\n",
       "28      1986   9.842008   9.837353  0.269418\n",
       "35      1993   9.944567   9.958249  0.268819\n",
       "38      1996   9.912888   9.898877  0.268718\n",
       "36      1994   9.957860   9.955692  0.266573\n",
       "24      1982  10.253545  10.252176  0.262922\n",
       "37      1995   9.960404   9.929343  0.262900\n",
       "50      2008  10.370512  10.215709  0.262021\n",
       "40      1998  10.065216  10.053203  0.261964\n",
       "39      1997  10.078756  10.049179  0.257528\n",
       "41      1999   9.999691   9.971385  0.252022\n",
       "4       1962   9.104980   9.440133  0.251741\n",
       "42      2000   9.902242   9.886950  0.250495\n",
       "51      2009  10.260719  10.068358  0.244308\n",
       "43      2001  10.033499  10.044402  0.244211\n",
       "49      2007  10.382379  10.299078  0.239624\n",
       "44      2002  10.024683  10.029356  0.238379\n",
       "48      2006  10.241478  10.222910  0.235631\n",
       "53      2011  11.166793  10.697105  0.232813\n",
       "45      2003   9.943801   9.967424  0.230461\n",
       "46      2004   9.978284   9.956935  0.222228\n",
       "47      2005  10.038598  10.032942  0.212122"
      ]
     },
     "execution_count": 62,
     "metadata": {},
     "output_type": "execute_result"
    }
   ],
   "source": [
    "flds = ['YearMade', 'SalePrice', 'pred', 'pred_std']\n",
    "ym_summ = x[flds].groupby('YearMade', as_index=False).mean().sort_values(\n",
    "    'pred_std', ascending=False)\n",
    "ym_summ"
   ]
  },
  {
   "cell_type": "code",
   "execution_count": 65,
   "metadata": {},
   "outputs": [
    {
     "data": {
      "text/plain": [
       "<matplotlib.axes._subplots.AxesSubplot at 0x1c31277da0>"
      ]
     },
     "execution_count": 65,
     "metadata": {},
     "output_type": "execute_result"
    },
    {
     "data": {
      "image/png": "[encoded data removed]",
      "text/plain": [
       "<Figure size 720x1440 with 1 Axes>"
      ]
     },
     "metadata": {
      "needs_background": "light"
     },
     "output_type": "display_data"
    }
   ],
   "source": [
    "ym_summ.plot('YearMade', 'pred', 'barh', \n",
    "             xerr='pred_std', alpha=0.6, figsize=(10,20))"
   ]
  },
  {
   "cell_type": "code",
   "execution_count": 69,
   "metadata": {},
   "outputs": [
    {
     "data": {
      "text/plain": [
       "<matplotlib.axes._subplots.AxesSubplot at 0x1c330ba320>"
      ]
     },
     "execution_count": 69,
     "metadata": {},
     "output_type": "execute_result"
    },
    {
     "data": {
      "image/png": "[encoded data removed]",
      "text/plain": [
       "<Figure size 432x288 with 1 Axes>"
      ]
     },
     "metadata": {
      "needs_background": "light"
     },
     "output_type": "display_data"
    }
   ],
   "source": [
    "raw_valid[raw_valid['YearMade'] > 1000].plot.scatter('YearMade', 'SalePrice')"
   ]
  },
  {
   "cell_type": "code",
   "execution_count": 71,
   "metadata": {},
   "outputs": [
    {
     "data": {
      "text/plain": [
       "(702, 65)"
      ]
     },
     "execution_count": 71,
     "metadata": {},
     "output_type": "execute_result"
    }
   ],
   "source": [
    "raw_valid[raw_valid.YearMade == 1000].shape"
   ]
  },
  {
   "cell_type": "code",
   "execution_count": 73,
   "metadata": {},
   "outputs": [
    {
     "data": {
      "text/plain": [
       "dtype('int64')"
      ]
     },
     "execution_count": 73,
     "metadata": {},
     "output_type": "execute_result"
    }
   ],
   "source": [
    "raw_valid.YearMade.dtype"
   ]
  },
  {
   "cell_type": "code",
   "execution_count": 76,
   "metadata": {},
   "outputs": [
    {
     "data": {
      "text/plain": [
       "(37483, 65)"
      ]
     },
     "execution_count": 76,
     "metadata": {},
     "output_type": "execute_result"
    }
   ],
   "source": [
    "raw_train[raw_train.YearMade == 1000].shape"
   ]
  },
  {
   "cell_type": "code",
   "execution_count": 79,
   "metadata": {},
   "outputs": [],
   "source": [
    "clean_df = df_raw[df_raw.YearMade > 1000]\n",
    "df_trn, y_trn, nas = proc_df(clean_df, 'SalePrice')\n",
    "\n",
    "n_valid = 12000\n",
    "n_trn = len(df_trn)-n_valid\n",
    "X_train, X_valid = split_vals(df_trn, n_trn)\n",
    "y_train, y_valid = split_vals(y_trn, n_trn)\n",
    "raw_train, raw_valid = split_vals(clean_df, n_trn)"
   ]
  },
  {
   "cell_type": "code",
   "execution_count": 80,
   "metadata": {},
   "outputs": [
    {
     "name": "stdout",
     "output_type": "stream",
     "text": [
      "TRAIN RMS Error   0.19202105268840614\n",
      "VAL RMS Error   0.2396784340551913\n",
      "R^2 TRAIN   0.9221822881709636\n",
      "R^2 VAL   0.8991034534150817\n",
      "OOB SCORE   0.9055563416529375\n"
     ]
    }
   ],
   "source": [
    "m = RandomForestRegressor(n_estimators=40, min_samples_leaf=3,\n",
    "                          max_features=0.5, n_jobs=-1, oob_score=True)\n",
    "m.fit(X_train, y_train)\n",
    "print_score(m)"
   ]
  },
  {
   "cell_type": "code",
   "execution_count": 83,
   "metadata": {},
   "outputs": [
    {
     "data": {
      "text/plain": [
       "<matplotlib.axes._subplots.AxesSubplot at 0x10d478b38>"
      ]
     },
     "execution_count": 83,
     "metadata": {},
     "output_type": "execute_result"
    },
    {
     "data": {
      "image/png": "[encoded data removed]",
      "text/plain": [
       "<Figure size 864x504 with 1 Axes>"
      ]
     },
     "metadata": {
      "needs_background": "light"
     },
     "output_type": "display_data"
    }
   ],
   "source": [
    "fi = rf_feat_importance(m, df_trn)\n",
    "plot_fi(fi[:10])"
   ]
  },
  {
   "cell_type": "code",
   "execution_count": 91,
   "metadata": {},
   "outputs": [],
   "source": [
    "shuffled_Coupler = X_train.copy()"
   ]
  },
  {
   "cell_type": "code",
   "execution_count": 92,
   "metadata": {},
   "outputs": [],
   "source": [
    "import random\n",
    "coupler_vals = list(shuffled_Coupler['Coupler_System'])"
   ]
  },
  {
   "cell_type": "code",
   "execution_count": 94,
   "metadata": {},
   "outputs": [],
   "source": [
    "random.shuffle(coupler_vals)"
   ]
  },
  {
   "cell_type": "code",
   "execution_count": 96,
   "metadata": {},
   "outputs": [],
   "source": [
    "shuffled_Coupler['Coupler_System'] = coupler_vals"
   ]
  },
  {
   "cell_type": "code",
   "execution_count": 97,
   "metadata": {},
   "outputs": [
    {
     "name": "stdout",
     "output_type": "stream",
     "text": [
      "TRAIN RMS Error   0.1918470624315639\n",
      "VAL RMS Error   0.2392597724332927\n",
      "R^2 TRAIN   0.9223232455232747\n",
      "R^2 VAL   0.8994556304395258\n",
      "OOB SCORE   0.905851689771038\n"
     ]
    }
   ],
   "source": [
    "m = RandomForestRegressor(n_estimators=40, min_samples_leaf=3,\n",
    "                          max_features=0.5, n_jobs=-1, oob_score=True)\n",
    "m.fit(shuffled_Coupler, y_train)\n",
    "print_score(m)"
   ]
  },
  {
   "cell_type": "code",
   "execution_count": 98,
   "metadata": {},
   "outputs": [],
   "source": [
    "shuffled_ProductSize = X_train.copy()\n",
    "product_size_vals = list(shuffled_ProductSize['ProductSize'])\n",
    "random.shuffle(product_size_vals)\n",
    "shuffled_ProductSize['ProductSize'] = product_size_vals"
   ]
  },
  {
   "cell_type": "code",
   "execution_count": 99,
   "metadata": {},
   "outputs": [
    {
     "name": "stdout",
     "output_type": "stream",
     "text": [
      "TRAIN RMS Error   0.19902527600860248\n",
      "VAL RMS Error   0.257786816359399\n",
      "R^2 TRAIN   0.9164017408400138\n",
      "R^2 VAL   0.8832814749653971\n",
      "OOB SCORE   0.8992668091945222\n"
     ]
    }
   ],
   "source": [
    "m = RandomForestRegressor(n_estimators=40, min_samples_leaf=3,\n",
    "                          max_features=0.5, n_jobs=-1, oob_score=True)\n",
    "m.fit(shuffled_ProductSize, y_train)\n",
    "print_score(m)"
   ]
  },
  {
   "cell_type": "code",
   "execution_count": 104,
   "metadata": {},
   "outputs": [],
   "source": [
    "df_keep = df_trn.copy()\n",
    "del df_keep['Coupler_System']\n",
    "X_train, X_valid = split_vals(df_keep, n_trn)"
   ]
  },
  {
   "cell_type": "code",
   "execution_count": 105,
   "metadata": {},
   "outputs": [
    {
     "name": "stdout",
     "output_type": "stream",
     "text": [
      "TRAIN RMS Error   0.19177339805990454\n",
      "VAL RMS Error   0.23853158573305894\n",
      "R^2 TRAIN   0.9223828858501668\n",
      "R^2 VAL   0.9000667123358331\n",
      "OOB SCORE   0.9058984233273382\n"
     ]
    }
   ],
   "source": [
    "m = RandomForestRegressor(n_estimators=40, min_samples_leaf=3,\n",
    "                          max_features=0.5, n_jobs=-1, oob_score=True)\n",
    "m.fit(X_train, y_train)\n",
    "print_score(m)"
   ]
  },
  {
   "cell_type": "code",
   "execution_count": 106,
   "metadata": {},
   "outputs": [
    {
     "data": {
      "text/plain": [
       "<matplotlib.axes._subplots.AxesSubplot at 0x1c35954da0>"
      ]
     },
     "execution_count": 106,
     "metadata": {},
     "output_type": "execute_result"
    },
    {
     "data": {
      "image/png": "[encoded data removed]",
      "text/plain": [
       "<Figure size 864x504 with 1 Axes>"
      ]
     },
     "metadata": {
      "needs_background": "light"
     },
     "output_type": "display_data"
    }
   ],
   "source": [
    "fi = rf_feat_importance(m, df_keep)\n",
    "plot_fi(fi[:10])"
   ]
  },
  {
   "cell_type": "code",
   "execution_count": 111,
   "metadata": {},
   "outputs": [],
   "source": [
    "from collections import Counter\n",
    "desc_count = Counter(raw_valid['fiProductClassDesc'])"
   ]
  },
  {
   "cell_type": "code",
   "execution_count": 115,
   "metadata": {},
   "outputs": [
    {
     "data": {
      "text/plain": [
       "['Backhoe Loader - 0.0 to 14.0 Ft Standard Digging Depth',\n",
       " 'Backhoe Loader - 14.0 to 15.0 Ft Standard Digging Depth',\n",
       " 'Backhoe Loader - 15.0 to 16.0 Ft Standard Digging Depth',\n",
       " 'Backhoe Loader - 16.0 + Ft Standard Digging Depth',\n",
       " 'Backhoe Loader - Unidentified',\n",
       " 'Hydraulic Excavator, Track - 0.0 to 2.0 Metric Tons',\n",
       " 'Hydraulic Excavator, Track - 11.0 to 12.0 Metric Tons',\n",
       " 'Hydraulic Excavator, Track - 12.0 to 14.0 Metric Tons',\n",
       " 'Hydraulic Excavator, Track - 14.0 to 16.0 Metric Tons',\n",
       " 'Hydraulic Excavator, Track - 16.0 to 19.0 Metric Tons',\n",
       " 'Hydraulic Excavator, Track - 19.0 to 21.0 Metric Tons',\n",
       " 'Hydraulic Excavator, Track - 2.0 to 3.0 Metric Tons',\n",
       " 'Hydraulic Excavator, Track - 21.0 to 24.0 Metric Tons',\n",
       " 'Hydraulic Excavator, Track - 24.0 to 28.0 Metric Tons',\n",
       " 'Hydraulic Excavator, Track - 28.0 to 33.0 Metric Tons',\n",
       " 'Hydraulic Excavator, Track - 3.0 to 4.0 Metric Tons',\n",
       " 'Hydraulic Excavator, Track - 33.0 to 40.0 Metric Tons',\n",
       " 'Hydraulic Excavator, Track - 4.0 to 5.0 Metric Tons',\n",
       " 'Hydraulic Excavator, Track - 4.0 to 6.0 Metric Tons',\n",
       " 'Hydraulic Excavator, Track - 40.0 to 50.0 Metric Tons',\n",
       " 'Hydraulic Excavator, Track - 5.0 to 6.0 Metric Tons',\n",
       " 'Hydraulic Excavator, Track - 50.0 to 66.0 Metric Tons',\n",
       " 'Hydraulic Excavator, Track - 6.0 to 8.0 Metric Tons',\n",
       " 'Hydraulic Excavator, Track - 66.0 to 90.0 Metric Tons',\n",
       " 'Hydraulic Excavator, Track - 8.0 to 11.0 Metric Tons',\n",
       " 'Hydraulic Excavator, Track - 90.0 to 150.0 Metric Tons',\n",
       " 'Hydraulic Excavator, Track - Unidentified',\n",
       " 'Motorgrader - 130.0 to 145.0 Horsepower',\n",
       " 'Motorgrader - 145.0 to 170.0 Horsepower',\n",
       " 'Motorgrader - 170.0 to 200.0 Horsepower',\n",
       " 'Motorgrader - 200.0 + Horsepower',\n",
       " 'Motorgrader - 45.0 to 130.0 Horsepower',\n",
       " 'Skid Steer Loader - 0.0 to 701.0 Lb Operating Capacity',\n",
       " 'Skid Steer Loader - 1251.0 to 1351.0 Lb Operating Capacity',\n",
       " 'Skid Steer Loader - 1351.0 to 1601.0 Lb Operating Capacity',\n",
       " 'Skid Steer Loader - 1601.0 to 1751.0 Lb Operating Capacity',\n",
       " 'Skid Steer Loader - 1751.0 to 2201.0 Lb Operating Capacity',\n",
       " 'Skid Steer Loader - 2201.0 to 2701.0 Lb Operating Capacity',\n",
       " 'Skid Steer Loader - 2701.0+ Lb Operating Capacity',\n",
       " 'Skid Steer Loader - 701.0 to 976.0 Lb Operating Capacity',\n",
       " 'Skid Steer Loader - 976.0 to 1251.0 Lb Operating Capacity',\n",
       " 'Skid Steer Loader - Unidentified',\n",
       " 'Track Type Tractor, Dozer - 105.0 to 130.0 Horsepower',\n",
       " 'Track Type Tractor, Dozer - 130.0 to 160.0 Horsepower',\n",
       " 'Track Type Tractor, Dozer - 160.0 to 190.0 Horsepower',\n",
       " 'Track Type Tractor, Dozer - 190.0 to 260.0 Horsepower',\n",
       " 'Track Type Tractor, Dozer - 20.0 to 75.0 Horsepower',\n",
       " 'Track Type Tractor, Dozer - 260.0 + Horsepower',\n",
       " 'Track Type Tractor, Dozer - 75.0 to 85.0 Horsepower',\n",
       " 'Track Type Tractor, Dozer - 85.0 to 105.0 Horsepower',\n",
       " 'Wheel Loader - 0.0 to 40.0 Horsepower',\n",
       " 'Wheel Loader - 100.0 to 110.0 Horsepower',\n",
       " 'Wheel Loader - 1000.0 + Horsepower',\n",
       " 'Wheel Loader - 110.0 to 120.0 Horsepower',\n",
       " 'Wheel Loader - 120.0 to 135.0 Horsepower',\n",
       " 'Wheel Loader - 135.0 to 150.0 Horsepower',\n",
       " 'Wheel Loader - 150.0 to 175.0 Horsepower',\n",
       " 'Wheel Loader - 175.0 to 200.0 Horsepower',\n",
       " 'Wheel Loader - 200.0 to 225.0 Horsepower',\n",
       " 'Wheel Loader - 225.0 to 250.0 Horsepower',\n",
       " 'Wheel Loader - 250.0 to 275.0 Horsepower',\n",
       " 'Wheel Loader - 275.0 to 350.0 Horsepower',\n",
       " 'Wheel Loader - 350.0 to 500.0 Horsepower',\n",
       " 'Wheel Loader - 40.0 to 60.0 Horsepower',\n",
       " 'Wheel Loader - 500.0 to 1000.0 Horsepower',\n",
       " 'Wheel Loader - 60.0 to 80.0 Horsepower',\n",
       " 'Wheel Loader - 80.0 to 90.0 Horsepower',\n",
       " 'Wheel Loader - 90.0 to 100.0 Horsepower',\n",
       " 'Wheel Loader - Unidentified']"
      ]
     },
     "execution_count": 115,
     "metadata": {},
     "output_type": "execute_result"
    }
   ],
   "source": [
    "desc_types = sorted(list(desc_count.keys()))\n",
    "desc_types"
   ]
  },
  {
   "cell_type": "code",
   "execution_count": 125,
   "metadata": {},
   "outputs": [],
   "source": [
    "prefix_to_ordinal = {\n",
    "    'Backhoe Loader': 0,\n",
    "    'Hydraulic Excavator': 1,\n",
    "    'Motorgrader': 2,\n",
    "    'Skid Steer Loader': 3,\n",
    "    'Track Type Tractor': 4,\n",
    "    'Wheel Loader': 5\n",
    "}\n",
    "\n",
    "def convert_ord(desc):\n",
    "    for desc_type in prefix_to_ordinal.keys():\n",
    "        if str(desc).startswith(desc_type):\n",
    "            return prefix_to_ordinal[desc_type]\n",
    "\n",
    "\n",
    "fix_ProductClass = df_raw.copy()\n",
    "fix_ProductClass['fiProductClassDescSimplified'] = fix_ProductClass['fiProductClassDesc'].apply(convert_ord) \n",
    "df_trn, y_trn, nas = proc_df(fix_ProductClass, 'SalePrice')"
   ]
  },
  {
   "cell_type": "code",
   "execution_count": 127,
   "metadata": {},
   "outputs": [],
   "source": [
    "del df_trn['Coupler_System']\n",
    "del df_trn['fiProductClassDesc']"
   ]
  },
  {
   "cell_type": "code",
   "execution_count": 129,
   "metadata": {},
   "outputs": [
    {
     "name": "stdout",
     "output_type": "stream",
     "text": [
      "TRAIN RMS Error   0.20529894189395423\n",
      "VAL RMS Error   0.2790215392487333\n",
      "R^2 TRAIN   0.9107700590303927\n",
      "R^2 VAL   0.856385701343176\n",
      "OOB SCORE   0.8917300769269014\n"
     ]
    }
   ],
   "source": [
    "X_train, X_valid = split_vals(df_trn, n_trn)\n",
    "y_train, y_valid = split_vals(y_trn, n_trn)\n",
    "raw_train, raw_valid = split_vals(fix_ProductClass, n_trn)\n",
    "\n",
    "m = RandomForestRegressor(n_estimators=40, min_samples_leaf=3,\n",
    "                          max_features=0.5, n_jobs=-1, oob_score=True)\n",
    "m.fit(X_train, y_train)\n",
    "print_score(m)"
   ]
  },
  {
   "cell_type": "code",
   "execution_count": 132,
   "metadata": {},
   "outputs": [
    {
     "data": {
      "text/plain": [
       "<matplotlib.axes._subplots.AxesSubplot at 0x1c33b9bfd0>"
      ]
     },
     "execution_count": 132,
     "metadata": {},
     "output_type": "execute_result"
    },
    {
     "data": {
      "image/png": "[encoded data removed]",
      "text/plain": [
       "<Figure size 864x504 with 1 Axes>"
      ]
     },
     "metadata": {
      "needs_background": "light"
     },
     "output_type": "display_data"
    }
   ],
   "source": [
    "fi = rf_feat_importance(m, df_trn)\n",
    "plot_fi(fi[:20])"
   ]
  },
  {
   "cell_type": "code",
   "execution_count": null,
   "metadata": {},
   "outputs": [],
   "source": []
  }
 ],
 "metadata": {
  "kernelspec": {
   "display_name": "Python 3",
   "language": "python",
   "name": "python3"
  },
  "language_info": {
   "codemirror_mode": {
    "name": "ipython",
    "version": 3
   },
   "file_extension": ".py",
   "mimetype": "text/x-python",
   "name": "python",
   "nbconvert_exporter": "python",
   "pygments_lexer": "ipython3",
   "version": "3.6.8"
  }
 },
 "nbformat": 4,
 "nbformat_minor": 4
}
